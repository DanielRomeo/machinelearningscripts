{
  "nbformat": 4,
  "nbformat_minor": 0,
  "metadata": {
    "colab": {
      "provenance": [],
      "authorship_tag": "ABX9TyMf5EXKVExZ1F0ZxUiz+Lf5",
      "include_colab_link": true
    },
    "kernelspec": {
      "name": "python3",
      "display_name": "Python 3"
    },
    "language_info": {
      "name": "python"
    }
  },
  "cells": [
    {
      "cell_type": "markdown",
      "metadata": {
        "id": "view-in-github",
        "colab_type": "text"
      },
      "source": [
        "<a href=\"https://colab.research.google.com/github/DanielRomeo/machinelearningscripts/blob/main/00_pytorch_fundermentals.ipynb\" target=\"_parent\"><img src=\"https://colab.research.google.com/assets/colab-badge.svg\" alt=\"Open In Colab\"/></a>"
      ]
    },
    {
      "cell_type": "markdown",
      "source": [
        "#Pytorch Fundermentals"
      ],
      "metadata": {
        "id": "OQwgerKoP-cD"
      }
    },
    {
      "cell_type": "code",
      "source": [
        "import torch\n",
        "import pandas as pd\n",
        "import numpy as np\n",
        "import matplotlib.pyplot as plt\n",
        "print(torch.__version__)"
      ],
      "metadata": {
        "colab": {
          "base_uri": "https://localhost:8080/"
        },
        "id": "wVvzy2zZQEFp",
        "outputId": "6cca41f0-fbdd-41e9-b790-e8b0988af4a4"
      },
      "execution_count": 2,
      "outputs": [
        {
          "output_type": "stream",
          "name": "stdout",
          "text": [
            "2.6.0+cu124\n"
          ]
        }
      ]
    },
    {
      "cell_type": "markdown",
      "source": [
        "## Introduction to tensors\n",
        "\n",
        "* Tensors are created with `torch.Tensor()`\n",
        "\n"
      ],
      "metadata": {
        "id": "LTCgzTofQuk6"
      }
    },
    {
      "cell_type": "code",
      "source": [
        "#scalars: creating a scalar:\n",
        "scalar = torch.tensor(7);\n",
        "scalar"
      ],
      "metadata": {
        "colab": {
          "base_uri": "https://localhost:8080/"
        },
        "id": "FTVRT2N-Qxgb",
        "outputId": "3e6eb497-af00-485d-99ba-3429cd09a6e6"
      },
      "execution_count": 4,
      "outputs": [
        {
          "output_type": "execute_result",
          "data": {
            "text/plain": [
              "tensor(7)"
            ]
          },
          "metadata": {},
          "execution_count": 4
        }
      ]
    },
    {
      "cell_type": "code",
      "source": [
        "# how many dimentions?\n",
        "scalar.ndim"
      ],
      "metadata": {
        "colab": {
          "base_uri": "https://localhost:8080/"
        },
        "id": "ajIVghX4RPJX",
        "outputId": "b6e65efd-a932-4d95-8d7e-9820cab2ed07"
      },
      "execution_count": 7,
      "outputs": [
        {
          "output_type": "execute_result",
          "data": {
            "text/plain": [
              "0"
            ]
          },
          "metadata": {},
          "execution_count": 7
        }
      ]
    },
    {
      "cell_type": "code",
      "source": [
        "# Get tensor back as python int:\n",
        "scalar.int()"
      ],
      "metadata": {
        "colab": {
          "base_uri": "https://localhost:8080/"
        },
        "id": "icLlq9SqRS5L",
        "outputId": "a3c8f0f2-9046-4b44-b864-9a0ff9c631ad"
      },
      "execution_count": 6,
      "outputs": [
        {
          "output_type": "execute_result",
          "data": {
            "text/plain": [
              "tensor(7, dtype=torch.int32)"
            ]
          },
          "metadata": {},
          "execution_count": 6
        }
      ]
    },
    {
      "cell_type": "markdown",
      "source": [
        "Vector"
      ],
      "metadata": {
        "id": "W36GRXyQRtPZ"
      }
    },
    {
      "cell_type": "code",
      "source": [
        "# Create a vector and display it:\n",
        "vector = torch.tensor([7,7])\n",
        "vector"
      ],
      "metadata": {
        "colab": {
          "base_uri": "https://localhost:8080/"
        },
        "id": "pR7lho7sRjkn",
        "outputId": "29fd5396-2003-4a24-d10d-3579172747e4"
      },
      "execution_count": 8,
      "outputs": [
        {
          "output_type": "execute_result",
          "data": {
            "text/plain": [
              "tensor([7, 7])"
            ]
          },
          "metadata": {},
          "execution_count": 8
        }
      ]
    },
    {
      "cell_type": "code",
      "source": [
        "vector.ndim"
      ],
      "metadata": {
        "colab": {
          "base_uri": "https://localhost:8080/"
        },
        "id": "QvlokOfjRuri",
        "outputId": "8967392d-53fd-431d-b1b6-c6bd3efa80ee"
      },
      "execution_count": 13,
      "outputs": [
        {
          "output_type": "execute_result",
          "data": {
            "text/plain": [
              "1"
            ]
          },
          "metadata": {},
          "execution_count": 13
        }
      ]
    },
    {
      "cell_type": "code",
      "source": [
        "vector.shape"
      ],
      "metadata": {
        "colab": {
          "base_uri": "https://localhost:8080/"
        },
        "id": "egGH_3neSSPl",
        "outputId": "fbc45168-5ad9-4a1e-be7f-24e9f0f833b4"
      },
      "execution_count": 14,
      "outputs": [
        {
          "output_type": "execute_result",
          "data": {
            "text/plain": [
              "torch.Size([2])"
            ]
          },
          "metadata": {},
          "execution_count": 14
        }
      ]
    },
    {
      "cell_type": "code",
      "source": [
        "# Matrix\n",
        "MATRIX = torch.tensor([[7,8],\n",
        "                       [9,10]])\n",
        "print(MATRIX)\n",
        "print(MATRIX.ndim)\n",
        "print(MATRIX.shape)"
      ],
      "metadata": {
        "colab": {
          "base_uri": "https://localhost:8080/"
        },
        "id": "Ws8lOCgGScy0",
        "outputId": "09d2743d-a096-4294-89a4-23e2a5aa0f64"
      },
      "execution_count": 16,
      "outputs": [
        {
          "output_type": "stream",
          "name": "stdout",
          "text": [
            "tensor([[ 7,  8],\n",
            "        [ 9, 10]])\n",
            "2\n",
            "torch.Size([2, 2])\n"
          ]
        }
      ]
    },
    {
      "cell_type": "code",
      "source": [
        "# TENSOR\n",
        "TENSOR  = torch.tensor([[[1,2,3],\n",
        "                         [3,6,9],\n",
        "                         [2,4,5]]])\n",
        "# print(TENSOR)\n",
        "print(TENSOR.ndim)\n",
        "print(TENSOR.shape) # one array originally, then second one, has 3 items in it,\n",
        "# thirdly, it has 3 elements each."
      ],
      "metadata": {
        "colab": {
          "base_uri": "https://localhost:8080/"
        },
        "id": "-RX4gapbS63N",
        "outputId": "353a5db8-3c17-459d-a6aa-9589ecf83620"
      },
      "execution_count": 18,
      "outputs": [
        {
          "output_type": "stream",
          "name": "stdout",
          "text": [
            "3\n",
            "torch.Size([1, 3, 3])\n"
          ]
        }
      ]
    },
    {
      "cell_type": "code",
      "source": [
        "# Practicing tensors:\n",
        "MYTENSOR = torch.tensor([[[[], []]], [[[], []]]])\n",
        "MYTENSOR.shape"
      ],
      "metadata": {
        "colab": {
          "base_uri": "https://localhost:8080/"
        },
        "id": "X3GVRZqrTiVp",
        "outputId": "368de365-76f2-4a33-efb6-650bd620b28e"
      },
      "execution_count": 33,
      "outputs": [
        {
          "output_type": "execute_result",
          "data": {
            "text/plain": [
              "torch.Size([2, 1, 2, 0])"
            ]
          },
          "metadata": {},
          "execution_count": 33
        }
      ]
    },
    {
      "cell_type": "markdown",
      "source": [],
      "metadata": {
        "id": "fNtNF3izROnq"
      }
    },
    {
      "cell_type": "markdown",
      "source": [
        "# Random tensors\n",
        "Why random tensors?\n",
        "because they nn start with random numbers and ajust those numbers to better represent the data.\n"
      ],
      "metadata": {
        "id": "997GyIsaUohe"
      }
    },
    {
      "cell_type": "code",
      "source": [
        "# Create a random tensor or size (3,4)\n",
        "random_tensor = torch.rand(3,4)\n",
        "print(random_tensor)\n",
        "print(\"dimentions of random tensor is: \", random_tensor.ndim)"
      ],
      "metadata": {
        "colab": {
          "base_uri": "https://localhost:8080/"
        },
        "id": "uB9hyvoDU2IS",
        "outputId": "d771fc8f-4399-4b11-f5d0-fb3596b45ec0"
      },
      "execution_count": 40,
      "outputs": [
        {
          "output_type": "stream",
          "name": "stdout",
          "text": [
            "tensor([[0.0173, 0.9034, 0.5313, 0.0946],\n",
            "        [0.5749, 0.4311, 0.5734, 0.1138],\n",
            "        [0.0096, 0.8052, 0.3256, 0.5996]])\n",
            "dimentions of random tensor is:  2\n"
          ]
        }
      ]
    }
  ]
}